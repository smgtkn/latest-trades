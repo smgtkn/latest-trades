{
 "cells": [
  {
   "cell_type": "code",
   "execution_count": 21,
   "id": "582c8c1f",
   "metadata": {},
   "outputs": [],
   "source": [
    "\n",
    "import requests\n",
    "import json\n"
   ]
  },
  {
   "cell_type": "code",
   "execution_count": null,
   "id": "28b37852",
   "metadata": {
    "scrolled": true
   },
   "outputs": [],
   "source": [
    "#Binance\n",
    "\n",
    "resp = requests.get('https://api.binance.com/api/v1/exchangeInfo')\n",
    "  \n",
    "resp_dict = resp.json()\n",
    "\n",
    "\n",
    "\n",
    "binance_dict={}\n",
    "binance_dict[\"id\"]=0\n",
    "binance_dict[\"exchange\"]=\"Binance\"\n",
    "binance_dict[\"symbol_data\"]=[]\n",
    "for i in resp_dict[\"symbols\"]:\n",
    "    temp={}\n",
    "    temp[\"symbol\"]=i[\"symbol\"]\n",
    "    temp[\"base\"]=i[\"baseAsset\"]\n",
    "    temp[\"quote\"]=i[\"quoteAsset\"]\n",
    "    binance_dict[\"symbol_data\"].append(temp)\n",
    "print(binance_dict)\n"
   ]
  },
  {
   "cell_type": "code",
   "execution_count": null,
   "id": "9a99d95f",
   "metadata": {},
   "outputs": [],
   "source": [
    "#HuobiPro\n",
    "resp = requests.get('https://api.huobi.pro/v1/common/symbols')\n",
    "  \n",
    "resp_dict = resp.json()\n",
    "\n",
    "\n",
    "\n",
    "huobi_dict={}\n",
    "huobi_dict[\"id\"]=1\n",
    "huobi_dict[\"exchange\"]=\"HuobiPro\"\n",
    "huobi_dict[\"symbol_data\"]=[]\n",
    "for i in resp_dict[\"data\"]:\n",
    "    temp={}\n",
    "    temp[\"symbol\"]=i[\"symbol\"]\n",
    "    temp[\"base\"]=i[\"base-currency\"]\n",
    "    temp[\"quote\"]=i[\"quote-currency\"]\n",
    "    huobi_dict[\"symbol_data\"].append(temp)\n",
    "print(huobi_dict)"
   ]
  },
  {
   "cell_type": "code",
   "execution_count": null,
   "id": "f6abc4c1",
   "metadata": {},
   "outputs": [],
   "source": [
    "#CoinbasePro\n",
    "resp = requests.get('https://api.exchange.coinbase.com/products')\n",
    "  \n",
    "resp_dict = resp.json()\n",
    "\n",
    "coin_dict={}\n",
    "coin_dict[\"id\"]=2\n",
    "coin_dict[\"exchange\"]=\"CoinbasePro\"\n",
    "coin_dict[\"symbol_data\"]=[]\n",
    "for i in resp_dict:\n",
    "    temp={}\n",
    "    temp[\"symbol\"]=i[\"id\"]\n",
    "    temp[\"base\"]=i[\"base_currency\"]\n",
    "    temp[\"quote\"]=i[\"quote_currency\"]\n",
    "    coin_dict[\"symbol_data\"].append(temp)\n",
    "print(coin_dict)\n"
   ]
  },
  {
   "cell_type": "code",
   "execution_count": 26,
   "id": "6db25eec",
   "metadata": {},
   "outputs": [],
   "source": [
    "#save data\n",
    "\n",
    "main=[binance_dict,huobi_dict,coin_dict]\n",
    "with open(\"./data.json\", \"w\") as file:\n",
    "      json.dump([ob for ob in main], file)\n",
    "    \n"
   ]
  },
  {
   "cell_type": "code",
   "execution_count": null,
   "id": "7fa00e7b",
   "metadata": {},
   "outputs": [],
   "source": []
  }
 ],
 "metadata": {
  "kernelspec": {
   "display_name": "Python 3",
   "language": "python",
   "name": "python3"
  },
  "language_info": {
   "codemirror_mode": {
    "name": "ipython",
    "version": 3
   },
   "file_extension": ".py",
   "mimetype": "text/x-python",
   "name": "python",
   "nbconvert_exporter": "python",
   "pygments_lexer": "ipython3",
   "version": "3.10.2 (main, Jun 12 2022, 22:58:20) [GCC 7.5.0]"
  },
  "vscode": {
   "interpreter": {
    "hash": "7e1998ff7f8aa20ada591c520b972326324e5ea05489af9e422744c7c09f6dad"
   }
  }
 },
 "nbformat": 4,
 "nbformat_minor": 5
}
